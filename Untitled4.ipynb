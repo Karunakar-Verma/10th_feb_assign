{
 "cells": [
  {
   "cell_type": "markdown",
   "id": "665d8dd9",
   "metadata": {},
   "source": [
    "# 10_feb_assignment"
   ]
  },
  {
   "cell_type": "code",
   "execution_count": 1,
   "id": "89ec027b",
   "metadata": {},
   "outputs": [
    {
     "data": {
      "text/plain": [
       "'\\nopen() function is used to open file .  \\n\\n1 in  Open for reading\\n2 out  Open for writing\\n3 ate  Seek to end of file upon original open\\n4 app  Append mode\\n5 trunc   Truncate file if already exists\\n6 nocreate   Open fails if file does not exists\\n7 noreplace  Open fails if file already exists\\n8 binary    Opens file as binary\\n\\n'"
      ]
     },
     "execution_count": 1,
     "metadata": {},
     "output_type": "execute_result"
    }
   ],
   "source": [
    "# Q 1\n",
    "\n",
    "\"\"\"\n",
    "open() function is used to open file .  \n",
    "\n",
    "1 in  Open for reading\n",
    "2 out  Open for writing\n",
    "3 ate  Seek to end of file upon original open\n",
    "4 app  Append mode\n",
    "5 trunc   Truncate file if already exists\n",
    "6 nocreate   Open fails if file does not exists\n",
    "7 noreplace  Open fails if file already exists\n",
    "8 binary    Opens file as binary\n",
    "\n",
    "\"\"\"\n"
   ]
  },
  {
   "cell_type": "code",
   "execution_count": 2,
   "id": "8366ae29",
   "metadata": {},
   "outputs": [
    {
     "data": {
      "text/plain": [
       "'\\nclose() function is used to close a open file . it is important \\nbecause in some cases, due to buffering, changes made to a file may not show\\nuntil you close the file.\\n'"
      ]
     },
     "execution_count": 2,
     "metadata": {},
     "output_type": "execute_result"
    }
   ],
   "source": [
    "# Q 2\n",
    "\n",
    "\"\"\"\n",
    "close() function is used to close a open file . it is important \n",
    "because in some cases, due to buffering, changes made to a file may not show\n",
    "until you close the file.\n",
    "\"\"\""
   ]
  },
  {
   "cell_type": "code",
   "execution_count": 3,
   "id": "71a6dc21",
   "metadata": {},
   "outputs": [
    {
     "data": {
      "text/plain": [
       "'\\nread() : Returns the read bytes in form of a string.\\nReads n bytes\\n\\nreadline() : Reads a line of the file and returns in form of a string.For specified n, \\nreads at most n bytes.\\n\\nreadlines() : Reads all the lines and return them as each\\nline a string element in a list.\\n\\n\\n'"
      ]
     },
     "execution_count": 3,
     "metadata": {},
     "output_type": "execute_result"
    }
   ],
   "source": [
    "#Q 4\n",
    "\n",
    "\"\"\"\n",
    "read() : Returns the read bytes in form of a string.\n",
    "Reads n bytes\n",
    "\n",
    "readline() : Reads a line of the file and returns in form of a string.For specified n, \n",
    "reads at most n bytes.\n",
    "\n",
    "readlines() : Reads all the lines and return them as each\n",
    "line a string element in a list.\n",
    "\n",
    "\n",
    "\"\"\""
   ]
  },
  {
   "cell_type": "code",
   "execution_count": 4,
   "id": "e8deb016",
   "metadata": {},
   "outputs": [
    {
     "data": {
      "text/plain": [
       "'\\nWe use with statement with open()  because it ensures that\\nopen file descriptors are automatically closed after the flow of execution leaves the with code block.\\n\\nAdvantages--\\nthe file will be closed as soon as you leave the block.\\n\\n'"
      ]
     },
     "execution_count": 4,
     "metadata": {},
     "output_type": "execute_result"
    }
   ],
   "source": [
    "#Q 5\n",
    "\"\"\"\n",
    "We use with statement with open()  because it ensures that\n",
    "open file descriptors are automatically closed after the flow of execution leaves the with code block.\n",
    "\n",
    "Advantages--\n",
    "the file will be closed as soon as you leave the block.\n",
    "\n",
    "\"\"\""
   ]
  },
  {
   "cell_type": "code",
   "execution_count": 6,
   "id": "a9bc9b4d",
   "metadata": {},
   "outputs": [
    {
     "name": "stdout",
     "output_type": "stream",
     "text": [
      "Enter the name of the employee: kv\n",
      "Enter the name of the employee: asf\n",
      "Enter the name of the employee: fda\n",
      "Data is written into the file.\n"
     ]
    }
   ],
   "source": [
    "# Q 6\n",
    "\"\"\"\n",
    "The write() method accepts a string as an argument and writes this string to the text file.\n",
    "Whereas, the writelines() method accepts an iterable i.e. \n",
    "a string or the list of strings as an argument and writes these strings to the text file.\n",
    "\n",
    "\"\"\"\n",
    "\n",
    "# exmp of write()\n",
    "file = open(\"Employees.txt\", \"w\")\n",
    "  \n",
    "for i in range(3):\n",
    "   name = input(\"Enter the name of the employee: \")\n",
    "   file.write(name)\n",
    "   file.write(\"\\n\")\n",
    "     \n",
    "file.close()\n",
    "  \n",
    "print(\"Data is written into the file.\")"
   ]
  },
  {
   "cell_type": "code",
   "execution_count": 7,
   "id": "dc873f00",
   "metadata": {},
   "outputs": [
    {
     "name": "stdout",
     "output_type": "stream",
     "text": [
      "Enter the name of the employee: jf\n",
      "Enter the name of the employee: \n",
      "Enter the name of the employee: dsg\n",
      "Data is written into the file.\n"
     ]
    }
   ],
   "source": [
    "#exp of writelines \n",
    "file1 = open(\"Employees.txt\", \"w\")\n",
    "lst = []\n",
    "for i in range(3):\n",
    "    name = input(\"Enter the name of the employee: \")\n",
    "    lst.append(name + '\\n')\n",
    "      \n",
    "file1.writelines(lst)\n",
    "file1.close()\n",
    "\n",
    "print(\"Data is written into the file.\") "
   ]
  },
  {
   "cell_type": "code",
   "execution_count": 22,
   "id": "0cbc11eb",
   "metadata": {},
   "outputs": [],
   "source": [
    "# Q 3\n",
    "file = open(\"myfile.txt\",\"w\")"
   ]
  },
  {
   "cell_type": "code",
   "execution_count": 23,
   "id": "12081e9f",
   "metadata": {},
   "outputs": [
    {
     "data": {
      "text/plain": [
       "35"
      ]
     },
     "execution_count": 23,
     "metadata": {},
     "output_type": "execute_result"
    }
   ],
   "source": [
    "file.write(\"I want to become a data scientist \\n\")"
   ]
  },
  {
   "cell_type": "code",
   "execution_count": 24,
   "id": "22b8b1a9",
   "metadata": {},
   "outputs": [],
   "source": [
    "file.close()"
   ]
  },
  {
   "cell_type": "code",
   "execution_count": null,
   "id": "a5be65fa",
   "metadata": {},
   "outputs": [],
   "source": []
  },
  {
   "cell_type": "code",
   "execution_count": null,
   "id": "9e9d520a",
   "metadata": {},
   "outputs": [],
   "source": []
  },
  {
   "cell_type": "code",
   "execution_count": null,
   "id": "d39fc1c7",
   "metadata": {},
   "outputs": [],
   "source": []
  },
  {
   "cell_type": "code",
   "execution_count": null,
   "id": "abe3f5fc",
   "metadata": {},
   "outputs": [],
   "source": []
  }
 ],
 "metadata": {
  "kernelspec": {
   "display_name": "Python 3 (ipykernel)",
   "language": "python",
   "name": "python3"
  },
  "language_info": {
   "codemirror_mode": {
    "name": "ipython",
    "version": 3
   },
   "file_extension": ".py",
   "mimetype": "text/x-python",
   "name": "python",
   "nbconvert_exporter": "python",
   "pygments_lexer": "ipython3",
   "version": "3.9.13"
  }
 },
 "nbformat": 4,
 "nbformat_minor": 5
}
